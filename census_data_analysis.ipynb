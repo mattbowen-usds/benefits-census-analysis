{
 "cells": [
  {
   "cell_type": "code",
   "execution_count": 1,
   "id": "4535743f-dc9e-45f8-a176-3df4e73a99fd",
   "metadata": {
    "tags": []
   },
   "outputs": [],
   "source": [
    "from ipywidgets import interact\n",
    "from analysis_utils import get_styled_census_data, get_state_fips_codes "
   ]
  },
  {
   "cell_type": "markdown",
   "id": "4544fe3b-50da-4411-a481-0eb07de15993",
   "metadata": {},
   "source": [
    "# Who speaks which languages in which counties\n",
    "\n",
    "Below are the following data about states:\n",
    "- WIC Participation rates for the state, per WIC's 2018 Coverage Rates\n",
    "- Detailed language breakdowns of the percentage of speakers of languages in the state who do not speak English well\n",
    "- County-level breakdowns of who percentages of speakers of languages for speakers who do not speak English well\n",
    "\n",
    "Counties are sorted by population (highest population first)."
   ]
  },
  {
   "cell_type": "code",
   "execution_count": 2,
   "id": "3d1f7a97-dcf9-4b03-85e7-2166b6406f97",
   "metadata": {},
   "outputs": [
    {
     "data": {
      "application/vnd.jupyter.widget-view+json": {
       "model_id": "e9de5b057f8343c68de80c785f45c3f4",
       "version_major": 2,
       "version_minor": 0
      },
      "text/plain": [
       "interactive(children=(Dropdown(description='state', options=(('Alabama', '01'), ('Alaska', '02'), ('Arizona', …"
      ]
     },
     "metadata": {},
     "output_type": "display_data"
    },
    {
     "data": {
      "text/plain": [
       "<function analysis_utils.get_styled_census_data(state: str) -> None>"
      ]
     },
     "execution_count": 2,
     "metadata": {},
     "output_type": "execute_result"
    }
   ],
   "source": [
    "interact(get_styled_census_data, state=get_state_fips_codes().items())\n"
   ]
  }
 ],
 "metadata": {
  "kernelspec": {
   "display_name": "Python 3 (ipykernel)",
   "language": "python",
   "name": "python3"
  },
  "language_info": {
   "codemirror_mode": {
    "name": "ipython",
    "version": 3
   },
   "file_extension": ".py",
   "mimetype": "text/x-python",
   "name": "python",
   "nbconvert_exporter": "python",
   "pygments_lexer": "ipython3",
   "version": "3.9.7"
  }
 },
 "nbformat": 4,
 "nbformat_minor": 5
}
