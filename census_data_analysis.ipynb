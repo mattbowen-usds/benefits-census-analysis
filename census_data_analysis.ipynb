{
 "cells": [
  {
   "cell_type": "code",
   "execution_count": 1,
   "id": "4535743f-dc9e-45f8-a176-3df4e73a99fd",
   "metadata": {
    "tags": []
   },
   "outputs": [],
   "source": [
    "from ipywidgets import interact\n",
    "from analysis_utils import get_styled_census_data, get_state_fips_codes, get_styled_tribal_data, get_tribal_area_names, get_frame_for_tribal_areas"
   ]
  },
  {
   "cell_type": "markdown",
   "id": "d05866b5-92c2-47b1-8a3f-e27d05e47a93",
   "metadata": {},
   "source": [
    "# Language Usage for states, counties, and census tribal areas\n",
    "\n",
    "- [For states](#state_overview) see detailed data on [WIC utilization](#utilization), [State-level, detailed language data](#state-lang), and [County-level, broad language data](#county-lang)\n",
    "- [For census tribal areas](#tibal-overview), [tribe-level, broad language data](#tribal)\n",
    "\n",
    "All language and populatioen data are from the [2019 American Community Survey 5-year estimates](https://www.census.gov/programs-surveys/acs). WIC Data are from [National- and State-Level Estimates of WIC Eligibility and WIC Program Reach in 2018 With Updated Estimates for 2016 and 2017](https://www.fns.usda.gov/wic/national-and-state-level-estimates-wic-eligibility-and-wic-program-reach-2018-updated)."
   ]
  },
  {
   "cell_type": "markdown",
   "id": "4544fe3b-50da-4411-a481-0eb07de15993",
   "metadata": {
    "tags": []
   },
   "source": [
    "<a id='state_overview'></a>\n",
    "## Who speaks which languages in which counties\n",
    "\n",
    "Below are the following data about states:\n",
    "- WIC Participation rates for the state, per WIC's 2018 Coverage Rates\n",
    "- Detailed language breakdowns of the percentage of speakers of languages in the state who do not speak English well\n",
    "- County-level breakdowns of who percentages of speakers of languages for speakers who do not speak English well\n",
    "\n",
    "Counties are sorted by population (highest population first)."
   ]
  },
  {
   "cell_type": "code",
   "execution_count": 2,
   "id": "203a83f7-0305-4a46-b4ea-79a3cca90635",
   "metadata": {},
   "outputs": [
    {
     "data": {
      "application/vnd.jupyter.widget-view+json": {
       "model_id": "b60c241f2ea9454f94d259fc6e69981b",
       "version_major": 2,
       "version_minor": 0
      },
      "text/plain": [
       "interactive(children=(Dropdown(description='state', options=(('Alabama', '01'), ('Alaska', '02'), ('Arizona', …"
      ]
     },
     "metadata": {},
     "output_type": "display_data"
    },
    {
     "data": {
      "text/plain": [
       "<function analysis_utils.get_styled_census_data(state: str) -> None>"
      ]
     },
     "execution_count": 2,
     "metadata": {},
     "output_type": "execute_result"
    }
   ],
   "source": [
    "interact(get_styled_census_data, state=get_state_fips_codes().items())\n"
   ]
  },
  {
   "cell_type": "markdown",
   "id": "8b04b6d6-4f9a-4e43-9ae6-f48b33d24638",
   "metadata": {},
   "source": [
    "<a id='tibal-overview'></a>\n",
    "## Who speaks which languages in tribes\n",
    "\n",
    "Because tribal areas tend to be smaller, few have the detailed breakdowns of the state-data above. However, we can still get broad counts like counties, as below."
   ]
  },
  {
   "cell_type": "code",
   "execution_count": 3,
   "id": "91a4a045-264a-4831-bc26-a10b3b670a31",
   "metadata": {},
   "outputs": [
    {
     "data": {
      "application/vnd.jupyter.widget-view+json": {
       "model_id": "9cff622aef6f48069bc9aa55b314d07e",
       "version_major": 2,
       "version_minor": 0
      },
      "text/plain": [
       "interactive(children=(Dropdown(description='tribe', options=(('Acoma Pueblo and Off-Reservation Trust Land, NM…"
      ]
     },
     "metadata": {},
     "output_type": "display_data"
    },
    {
     "data": {
      "text/plain": [
       "<function analysis_utils.get_styled_tribal_data(tribe: str) -> None>"
      ]
     },
     "execution_count": 3,
     "metadata": {},
     "output_type": "execute_result"
    }
   ],
   "source": [
    "interact(get_styled_tribal_data, tribe=get_tribal_area_names().items())"
   ]
  }
 ],
 "metadata": {
  "kernelspec": {
   "display_name": "Python 3 (ipykernel)",
   "language": "python",
   "name": "python3"
  },
  "language_info": {
   "codemirror_mode": {
    "name": "ipython",
    "version": 3
   },
   "file_extension": ".py",
   "mimetype": "text/x-python",
   "name": "python",
   "nbconvert_exporter": "python",
   "pygments_lexer": "ipython3",
   "version": "3.9.7"
  }
 },
 "nbformat": 4,
 "nbformat_minor": 5
}
