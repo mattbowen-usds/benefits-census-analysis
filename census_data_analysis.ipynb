{
 "cells": [
  {
   "cell_type": "code",
   "execution_count": 3,
   "id": "4535743f-dc9e-45f8-a176-3df4e73a99fd",
   "metadata": {
    "tags": []
   },
   "outputs": [],
   "source": [
    "from ipywidgets import interact\n",
    "from analysis_utils import get_styled_census_data, get_state_fips_codes, get_census_data"
   ]
  },
  {
   "cell_type": "markdown",
   "id": "4544fe3b-50da-4411-a481-0eb07de15993",
   "metadata": {},
   "source": [
    "# Who speaks which languages in which counties\n",
    "\n",
    "Below are the populations and percentage of people in each of state and county who \n",
    "- receive public assistance\n",
    "- have an income under 185% of the poverty line\n",
    "- don't speak English \"very well\" by which language they speak at home\n",
    "\n",
    "Cells with more than 1% of a county's population who speak the language are highlighted green. If a value for \"received public assistance\" or \"under 185%\" is in the top 75% for the county, it is bold.\n",
    "\n",
    "Counties are sorted by population (highest population first)."
   ]
  },
  {
   "cell_type": "code",
   "execution_count": 4,
   "id": "3d1f7a97-dcf9-4b03-85e7-2166b6406f97",
   "metadata": {},
   "outputs": [
    {
     "data": {
      "application/vnd.jupyter.widget-view+json": {
       "model_id": "b1fadd370ade43d681c94397386cfb5e",
       "version_major": 2,
       "version_minor": 0
      },
      "text/plain": [
       "interactive(children=(Dropdown(description='state', options=(('Alabama', '01'), ('Alaska', '02'), ('Arizona', …"
      ]
     },
     "metadata": {},
     "output_type": "display_data"
    },
    {
     "data": {
      "text/plain": [
       "<function analysis_utils.get_styled_census_data(state: str) -> pandas.io.formats.style.Styler>"
      ]
     },
     "execution_count": 4,
     "metadata": {},
     "output_type": "execute_result"
    }
   ],
   "source": [
    "interact(get_styled_census_data, state=get_state_fips_codes().items())\n"
   ]
  },
  {
   "cell_type": "markdown",
   "id": "56678057",
   "metadata": {},
   "source": [
    "It can take a minute to load all the data, so if you see this message, that's probably what's happening."
   ]
  }
 ],
 "metadata": {
  "kernelspec": {
   "display_name": "Python 3 (ipykernel)",
   "language": "python",
   "name": "python3"
  },
  "language_info": {
   "codemirror_mode": {
    "name": "ipython",
    "version": 3
   },
   "file_extension": ".py",
   "mimetype": "text/x-python",
   "name": "python",
   "nbconvert_exporter": "python",
   "pygments_lexer": "ipython3",
   "version": "3.9.7"
  }
 },
 "nbformat": 4,
 "nbformat_minor": 5
}
